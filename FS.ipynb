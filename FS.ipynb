{
 "cells": [
  {
   "cell_type": "code",
   "id": "initial_id",
   "metadata": {
    "collapsed": true,
    "ExecuteTime": {
     "end_time": "2025-08-26T08:18:45.389043Z",
     "start_time": "2025-08-26T08:18:44.361349Z"
    }
   },
   "source": [
    "from functions import generate_random_instance, ConstraintProgramming, Sevastjanov\n",
    "import numpy as np\n",
    "import time"
   ],
   "outputs": [],
   "execution_count": 1
  },
  {
   "metadata": {
    "ExecuteTime": {
     "end_time": "2025-08-26T08:18:45.405898Z",
     "start_time": "2025-08-26T08:18:45.402061Z"
    }
   },
   "cell_type": "code",
   "source": [
    "np.random.seed(42)\n",
    "jobs_data = generate_random_instance()\n",
    "n = len(jobs_data)\n",
    "m = len(jobs_data[0])\n",
    "p_max = np.max(jobs_data)\n",
    "print(f'n = {n},', f'm = {m},', f'p_max = {p_max},', f'm(m-1)p_max = {m * (m-1) * p_max}')"
   ],
   "id": "9b375c85142f5bf6",
   "outputs": [
    {
     "name": "stdout",
     "output_type": "stream",
     "text": [
      "n = 200, m = 5, p_max = 30, m(m-1)p_max = 600\n"
     ]
    }
   ],
   "execution_count": 2
  },
  {
   "metadata": {
    "ExecuteTime": {
     "end_time": "2025-08-26T08:20:45.590540Z",
     "start_time": "2025-08-26T08:18:45.412828Z"
    }
   },
   "cell_type": "code",
   "source": [
    "# max running time = 120 seconds\n",
    "CP = ConstraintProgramming(jobs_data)\n",
    "CP.run()"
   ],
   "id": "765b963da9b2b14",
   "outputs": [
    {
     "name": "stdout",
     "output_type": "stream",
     "text": [
      "Makespan: 3885\n"
     ]
    }
   ],
   "execution_count": 3
  },
  {
   "metadata": {
    "ExecuteTime": {
     "end_time": "2025-08-26T08:20:45.910539Z",
     "start_time": "2025-08-26T08:20:45.602207Z"
    }
   },
   "cell_type": "code",
   "source": [
    "Sevastjanov = Sevastjanov(jobs_data)\n",
    "start = time.time()\n",
    "res = Sevastjanov.run()\n",
    "print(f\"Makespan：{res}\")\n",
    "end = time.time()\n",
    "print(f\"Running time：{end - start:.6f} seconds\")"
   ],
   "id": "c8944b1c10fb99a0",
   "outputs": [
    {
     "name": "stdout",
     "output_type": "stream",
     "text": [
      "Makespan：3914\n",
      "Running time：0.305481 seconds\n"
     ]
    }
   ],
   "execution_count": 4
  }
 ],
 "metadata": {
  "kernelspec": {
   "display_name": "Python 3",
   "language": "python",
   "name": "python3"
  },
  "language_info": {
   "codemirror_mode": {
    "name": "ipython",
    "version": 2
   },
   "file_extension": ".py",
   "mimetype": "text/x-python",
   "name": "python",
   "nbconvert_exporter": "python",
   "pygments_lexer": "ipython2",
   "version": "2.7.6"
  }
 },
 "nbformat": 4,
 "nbformat_minor": 5
}
