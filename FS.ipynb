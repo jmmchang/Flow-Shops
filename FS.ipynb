{
 "cells": [
  {
   "cell_type": "code",
   "id": "initial_id",
   "metadata": {
    "collapsed": true,
    "ExecuteTime": {
     "end_time": "2025-08-27T06:08:12.473642Z",
     "start_time": "2025-08-27T06:08:11.408260Z"
    }
   },
   "source": [
    "from functions import generate_random_instance, ConstraintProgramming, Sevastjanov\n",
    "import numpy as np\n",
    "import time"
   ],
   "outputs": [],
   "execution_count": 1
  },
  {
   "metadata": {
    "ExecuteTime": {
     "end_time": "2025-08-27T06:08:12.494650Z",
     "start_time": "2025-08-27T06:08:12.490169Z"
    }
   },
   "cell_type": "code",
   "source": [
    "np.random.seed(42)\n",
    "jobs_data = generate_random_instance()\n",
    "n = len(jobs_data)\n",
    "m = len(jobs_data[0])\n",
    "p_max = np.max(jobs_data)\n",
    "print(f'n = {n},', f'm = {m},', f'p_max = {p_max},', f'm(m-1)p_max = {m * (m-1) * p_max}')"
   ],
   "id": "9b375c85142f5bf6",
   "outputs": [
    {
     "name": "stdout",
     "output_type": "stream",
     "text": [
      "n = 200, m = 5, p_max = 50, m(m-1)p_max = 1000\n"
     ]
    }
   ],
   "execution_count": 2
  },
  {
   "metadata": {
    "ExecuteTime": {
     "end_time": "2025-08-27T06:18:12.936654Z",
     "start_time": "2025-08-27T06:08:12.505419Z"
    }
   },
   "cell_type": "code",
   "source": [
    "# max running time = 600 seconds\n",
    "CP = ConstraintProgramming(jobs_data)\n",
    "start = time.time()\n",
    "CP.run()\n",
    "end = time.time()\n",
    "print(f\"CP running time：{end - start:.6f} seconds\")"
   ],
   "id": "765b963da9b2b14",
   "outputs": [
    {
     "name": "stdout",
     "output_type": "stream",
     "text": [
      "Makespan: 5941\n",
      "CP running time：600.428437 seconds\n"
     ]
    }
   ],
   "execution_count": 3
  },
  {
   "metadata": {
    "ExecuteTime": {
     "end_time": "2025-08-27T06:18:13.400570Z",
     "start_time": "2025-08-27T06:18:13.064821Z"
    }
   },
   "cell_type": "code",
   "source": [
    "Sevastjanov = Sevastjanov(jobs_data)\n",
    "start = time.time()\n",
    "res = Sevastjanov.run()\n",
    "print(f\"Makespan：{res}\")\n",
    "end = time.time()\n",
    "print(f\"Sevastjanov's algorithm running time：{end - start:.6f} seconds\")"
   ],
   "id": "c8944b1c10fb99a0",
   "outputs": [
    {
     "name": "stdout",
     "output_type": "stream",
     "text": [
      "Makespan：6029\n",
      "Sevastjanov's algorithm running time：0.333177 seconds\n"
     ]
    }
   ],
   "execution_count": 4
  }
 ],
 "metadata": {
  "kernelspec": {
   "display_name": "Python 3",
   "language": "python",
   "name": "python3"
  },
  "language_info": {
   "codemirror_mode": {
    "name": "ipython",
    "version": 2
   },
   "file_extension": ".py",
   "mimetype": "text/x-python",
   "name": "python",
   "nbconvert_exporter": "python",
   "pygments_lexer": "ipython2",
   "version": "2.7.6"
  }
 },
 "nbformat": 4,
 "nbformat_minor": 5
}
