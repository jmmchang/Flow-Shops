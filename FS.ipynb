{
 "cells": [
  {
   "cell_type": "code",
   "id": "initial_id",
   "metadata": {
    "collapsed": true,
    "ExecuteTime": {
     "end_time": "2025-08-27T07:09:34.560020Z",
     "start_time": "2025-08-27T07:09:33.532722Z"
    }
   },
   "source": [
    "from functions import generate_random_instance, ConstraintProgramming, SlopeHeuristic, Sevastjanov\n",
    "import numpy as np\n",
    "import time"
   ],
   "outputs": [],
   "execution_count": 1
  },
  {
   "metadata": {
    "ExecuteTime": {
     "end_time": "2025-08-27T07:09:34.576235Z",
     "start_time": "2025-08-27T07:09:34.572163Z"
    }
   },
   "cell_type": "code",
   "source": [
    "np.random.seed(42)\n",
    "jobs_data = generate_random_instance()\n",
    "n = len(jobs_data)\n",
    "m = len(jobs_data[0])\n",
    "p_max = np.max(jobs_data)\n",
    "print(f'n = {n},', f'm = {m},', f'p_max = {p_max},', f'm(m-1)p_max = {m * (m-1) * p_max}')"
   ],
   "id": "9b375c85142f5bf6",
   "outputs": [
    {
     "name": "stdout",
     "output_type": "stream",
     "text": [
      "n = 200, m = 5, p_max = 30, m(m-1)p_max = 600\n"
     ]
    }
   ],
   "execution_count": 2
  },
  {
   "metadata": {
    "ExecuteTime": {
     "end_time": "2025-08-27T07:14:34.865188Z",
     "start_time": "2025-08-27T07:09:34.583286Z"
    }
   },
   "cell_type": "code",
   "source": [
    "# max running time = 300 seconds\n",
    "CP = ConstraintProgramming(jobs_data)\n",
    "start = time.time()\n",
    "CP.run()\n",
    "end = time.time()\n",
    "print(f\"CP running time：{end - start:.6f} seconds\")"
   ],
   "id": "765b963da9b2b14",
   "outputs": [
    {
     "name": "stdout",
     "output_type": "stream",
     "text": [
      "Makespan: 3469\n",
      "CP running time：300.278819 seconds\n"
     ]
    }
   ],
   "execution_count": 3
  },
  {
   "metadata": {
    "ExecuteTime": {
     "end_time": "2025-08-27T07:14:34.920190Z",
     "start_time": "2025-08-27T07:14:34.915073Z"
    }
   },
   "cell_type": "code",
   "source": [
    "Slope = SlopeHeuristic(jobs_data)\n",
    "start = time.time()\n",
    "res = Slope.run()\n",
    "print(f\"Makespan：{res}\")\n",
    "end = time.time()\n",
    "print(f\"Slope heuristic running time：{end - start:.6f} seconds\")"
   ],
   "id": "322f6c1b10b300bb",
   "outputs": [
    {
     "name": "stdout",
     "output_type": "stream",
     "text": [
      "Makespan：3409\n",
      "Slope heuristic running time：0.001184 seconds\n"
     ]
    }
   ],
   "execution_count": 4
  },
  {
   "metadata": {
    "ExecuteTime": {
     "end_time": "2025-08-27T07:14:35.539604Z",
     "start_time": "2025-08-27T07:14:34.988220Z"
    }
   },
   "cell_type": "code",
   "source": [
    "Sevastjanov = Sevastjanov(jobs_data)\n",
    "start = time.time()\n",
    "res = Sevastjanov.run()\n",
    "print(f\"Makespan：{res}\")\n",
    "end = time.time()\n",
    "print(f\"Sevastjanov's algorithm running time：{end - start:.6f} seconds\")"
   ],
   "id": "c8944b1c10fb99a0",
   "outputs": [
    {
     "name": "stdout",
     "output_type": "stream",
     "text": [
      "Makespan：3577\n",
      "Sevastjanov's algorithm running time：0.547523 seconds\n"
     ]
    }
   ],
   "execution_count": 5
  }
 ],
 "metadata": {
  "kernelspec": {
   "display_name": "Python 3",
   "language": "python",
   "name": "python3"
  },
  "language_info": {
   "codemirror_mode": {
    "name": "ipython",
    "version": 2
   },
   "file_extension": ".py",
   "mimetype": "text/x-python",
   "name": "python",
   "nbconvert_exporter": "python",
   "pygments_lexer": "ipython2",
   "version": "2.7.6"
  }
 },
 "nbformat": 4,
 "nbformat_minor": 5
}
