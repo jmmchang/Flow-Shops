{
 "cells": [
  {
   "cell_type": "code",
   "id": "initial_id",
   "metadata": {
    "collapsed": true,
    "ExecuteTime": {
     "end_time": "2025-08-27T07:52:46.379761Z",
     "start_time": "2025-08-27T07:52:45.306199Z"
    }
   },
   "source": [
    "from functions import generate_random_instance, ConstraintProgramming, SlopeHeuristic, Sevastjanov\n",
    "import numpy as np\n",
    "import time"
   ],
   "outputs": [],
   "execution_count": 1
  },
  {
   "metadata": {
    "ExecuteTime": {
     "end_time": "2025-08-27T07:52:46.392211Z",
     "start_time": "2025-08-27T07:52:46.388777Z"
    }
   },
   "cell_type": "code",
   "source": [
    "np.random.seed(42)\n",
    "jobs_data = generate_random_instance()\n",
    "n = len(jobs_data)\n",
    "m = len(jobs_data[0])\n",
    "p_max = np.max(jobs_data)\n",
    "print(f'n = {n},', f'm = {m},', f'p_max = {p_max},', f'm(m-1)p_max = {m * (m-1) * p_max}')"
   ],
   "id": "9b375c85142f5bf6",
   "outputs": [
    {
     "name": "stdout",
     "output_type": "stream",
     "text": [
      "n = 100, m = 5, p_max = 30, m(m-1)p_max = 600\n"
     ]
    }
   ],
   "execution_count": 2
  },
  {
   "metadata": {
    "ExecuteTime": {
     "end_time": "2025-08-27T07:54:00.072429Z",
     "start_time": "2025-08-27T07:52:46.399077Z"
    }
   },
   "cell_type": "code",
   "source": [
    "# max running time = 600 seconds\n",
    "CP = ConstraintProgramming(jobs_data)\n",
    "start = time.time()\n",
    "CP.run()\n",
    "end = time.time()\n",
    "print(f\"CP running time：{end - start:.6f} seconds\")"
   ],
   "id": "765b963da9b2b14",
   "outputs": [
    {
     "name": "stdout",
     "output_type": "stream",
     "text": [
      "Makespan: 1751\n",
      "CP running time：73.670904 seconds\n"
     ]
    }
   ],
   "execution_count": 3
  },
  {
   "metadata": {
    "ExecuteTime": {
     "end_time": "2025-08-27T07:54:00.152419Z",
     "start_time": "2025-08-27T07:54:00.149613Z"
    }
   },
   "cell_type": "code",
   "source": [
    "Slope = SlopeHeuristic(jobs_data)\n",
    "start = time.time()\n",
    "res = Slope.run()\n",
    "print(f\"Makespan：{res}\")\n",
    "end = time.time()\n",
    "print(f\"Slope heuristic running time：{end - start:.6f} seconds\")"
   ],
   "id": "322f6c1b10b300bb",
   "outputs": [
    {
     "name": "stdout",
     "output_type": "stream",
     "text": [
      "Makespan：1786\n",
      "Slope heuristic running time：0.000484 seconds\n"
     ]
    }
   ],
   "execution_count": 4
  },
  {
   "metadata": {
    "ExecuteTime": {
     "end_time": "2025-08-27T07:54:00.337811Z",
     "start_time": "2025-08-27T07:54:00.230264Z"
    }
   },
   "cell_type": "code",
   "source": [
    "Sevastjanov = Sevastjanov(jobs_data)\n",
    "start = time.time()\n",
    "res = Sevastjanov.run()\n",
    "print(f\"Makespan：{res}\")\n",
    "end = time.time()\n",
    "print(f\"Sevastjanov's algorithm running time：{end - start:.6f} seconds\")"
   ],
   "id": "c8944b1c10fb99a0",
   "outputs": [
    {
     "name": "stdout",
     "output_type": "stream",
     "text": [
      "Makespan：1946\n",
      "Sevastjanov's algorithm running time：0.105290 seconds\n"
     ]
    }
   ],
   "execution_count": 5
  }
 ],
 "metadata": {
  "kernelspec": {
   "display_name": "Python 3",
   "language": "python",
   "name": "python3"
  },
  "language_info": {
   "codemirror_mode": {
    "name": "ipython",
    "version": 2
   },
   "file_extension": ".py",
   "mimetype": "text/x-python",
   "name": "python",
   "nbconvert_exporter": "python",
   "pygments_lexer": "ipython2",
   "version": "2.7.6"
  }
 },
 "nbformat": 4,
 "nbformat_minor": 5
}
